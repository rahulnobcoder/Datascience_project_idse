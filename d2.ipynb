{
 "cells": [
  {
   "cell_type": "code",
   "execution_count": 1,
   "id": "e082af29",
   "metadata": {
    "id": "e082af29"
   },
   "outputs": [],
   "source": [
    "import pandas as pd\n",
    "import numpy as np\n",
    "import matplotlib.pyplot as plt\n",
    "from sklearn.model_selection import train_test_split"
   ]
  },
  {
   "cell_type": "code",
   "execution_count": 6,
   "id": "7d69521e",
   "metadata": {
    "colab": {
     "base_uri": "https://localhost:8080/",
     "height": 423
    },
    "id": "7d69521e",
    "outputId": "69ab0048-31c5-4c2f-c15b-1f71fedcdcd7"
   },
   "outputs": [
    {
     "data": {
      "text/html": [
       "<div>\n",
       "<style scoped>\n",
       "    .dataframe tbody tr th:only-of-type {\n",
       "        vertical-align: middle;\n",
       "    }\n",
       "\n",
       "    .dataframe tbody tr th {\n",
       "        vertical-align: top;\n",
       "    }\n",
       "\n",
       "    .dataframe thead th {\n",
       "        text-align: right;\n",
       "    }\n",
       "</style>\n",
       "<table border=\"1\" class=\"dataframe\">\n",
       "  <thead>\n",
       "    <tr style=\"text-align: right;\">\n",
       "      <th></th>\n",
       "      <th>ROLL_NO</th>\n",
       "      <th>GENDER</th>\n",
       "      <th>MID_MARKS</th>\n",
       "      <th>ATTENDANCE</th>\n",
       "      <th>SOCIAL_MEDIA_TIME</th>\n",
       "      <th>STUDY_TIME</th>\n",
       "      <th>END_MARKS</th>\n",
       "    </tr>\n",
       "  </thead>\n",
       "  <tbody>\n",
       "    <tr>\n",
       "      <th>0</th>\n",
       "      <td>CS20B1052</td>\n",
       "      <td>M</td>\n",
       "      <td>23</td>\n",
       "      <td>90.32</td>\n",
       "      <td>5.0</td>\n",
       "      <td>3.0</td>\n",
       "      <td>55</td>\n",
       "    </tr>\n",
       "    <tr>\n",
       "      <th>1</th>\n",
       "      <td>CS21B1001</td>\n",
       "      <td>F</td>\n",
       "      <td>21</td>\n",
       "      <td>93.65</td>\n",
       "      <td>4.7</td>\n",
       "      <td>3.1</td>\n",
       "      <td>56</td>\n",
       "    </tr>\n",
       "    <tr>\n",
       "      <th>2</th>\n",
       "      <td>CS21B1002</td>\n",
       "      <td>M</td>\n",
       "      <td>38</td>\n",
       "      <td>98.41</td>\n",
       "      <td>2.0</td>\n",
       "      <td>7.2</td>\n",
       "      <td>95</td>\n",
       "    </tr>\n",
       "    <tr>\n",
       "      <th>3</th>\n",
       "      <td>CS21B1003</td>\n",
       "      <td>M</td>\n",
       "      <td>14</td>\n",
       "      <td>95.24</td>\n",
       "      <td>5.2</td>\n",
       "      <td>2.0</td>\n",
       "      <td>41</td>\n",
       "    </tr>\n",
       "    <tr>\n",
       "      <th>4</th>\n",
       "      <td>CS21B1004</td>\n",
       "      <td>M</td>\n",
       "      <td>13</td>\n",
       "      <td>85.71</td>\n",
       "      <td>6.0</td>\n",
       "      <td>1.8</td>\n",
       "      <td>39</td>\n",
       "    </tr>\n",
       "    <tr>\n",
       "      <th>...</th>\n",
       "      <td>...</td>\n",
       "      <td>...</td>\n",
       "      <td>...</td>\n",
       "      <td>...</td>\n",
       "      <td>...</td>\n",
       "      <td>...</td>\n",
       "      <td>...</td>\n",
       "    </tr>\n",
       "    <tr>\n",
       "      <th>123</th>\n",
       "      <td>CS21B2042</td>\n",
       "      <td>M</td>\n",
       "      <td>32</td>\n",
       "      <td>100.00</td>\n",
       "      <td>2.1</td>\n",
       "      <td>5.9</td>\n",
       "      <td>86</td>\n",
       "    </tr>\n",
       "    <tr>\n",
       "      <th>124</th>\n",
       "      <td>CS21B2043</td>\n",
       "      <td>M</td>\n",
       "      <td>32</td>\n",
       "      <td>100.00</td>\n",
       "      <td>2.0</td>\n",
       "      <td>6.5</td>\n",
       "      <td>87</td>\n",
       "    </tr>\n",
       "    <tr>\n",
       "      <th>125</th>\n",
       "      <td>CS21B2044</td>\n",
       "      <td>F</td>\n",
       "      <td>26</td>\n",
       "      <td>100.00</td>\n",
       "      <td>3.6</td>\n",
       "      <td>5.6</td>\n",
       "      <td>77</td>\n",
       "    </tr>\n",
       "    <tr>\n",
       "      <th>126</th>\n",
       "      <td>CS21B2045</td>\n",
       "      <td>M</td>\n",
       "      <td>30</td>\n",
       "      <td>98.41</td>\n",
       "      <td>2.8</td>\n",
       "      <td>7.0</td>\n",
       "      <td>80</td>\n",
       "    </tr>\n",
       "    <tr>\n",
       "      <th>127</th>\n",
       "      <td>CS21B2045</td>\n",
       "      <td>M</td>\n",
       "      <td>30</td>\n",
       "      <td>98.41</td>\n",
       "      <td>4.0</td>\n",
       "      <td>6.0</td>\n",
       "      <td>80</td>\n",
       "    </tr>\n",
       "  </tbody>\n",
       "</table>\n",
       "<p>128 rows × 7 columns</p>\n",
       "</div>"
      ],
      "text/plain": [
       "       ROLL_NO GENDER  MID_MARKS  ATTENDANCE  SOCIAL_MEDIA_TIME  STUDY_TIME  \\\n",
       "0    CS20B1052      M         23       90.32                5.0         3.0   \n",
       "1    CS21B1001      F         21       93.65                4.7         3.1   \n",
       "2    CS21B1002      M         38       98.41                2.0         7.2   \n",
       "3    CS21B1003      M         14       95.24                5.2         2.0   \n",
       "4    CS21B1004      M         13       85.71                6.0         1.8   \n",
       "..         ...    ...        ...         ...                ...         ...   \n",
       "123  CS21B2042      M         32      100.00                2.1         5.9   \n",
       "124  CS21B2043      M         32      100.00                2.0         6.5   \n",
       "125  CS21B2044      F         26      100.00                3.6         5.6   \n",
       "126  CS21B2045      M         30       98.41                2.8         7.0   \n",
       "127  CS21B2045      M         30       98.41                4.0         6.0   \n",
       "\n",
       "     END_MARKS  \n",
       "0           55  \n",
       "1           56  \n",
       "2           95  \n",
       "3           41  \n",
       "4           39  \n",
       "..         ...  \n",
       "123         86  \n",
       "124         87  \n",
       "125         77  \n",
       "126         80  \n",
       "127         80  \n",
       "\n",
       "[128 rows x 7 columns]"
      ]
     },
     "execution_count": 6,
     "metadata": {},
     "output_type": "execute_result"
    }
   ],
   "source": [
    "data=pd.read_csv('ds_end.csv')\n",
    "data"
   ]
  },
  {
   "cell_type": "code",
   "execution_count": 7,
   "id": "dfe96023",
   "metadata": {
    "colab": {
     "base_uri": "https://localhost:8080/"
    },
    "id": "dfe96023",
    "outputId": "44ac05b6-b0a8-4de1-859d-626b2beb804f"
   },
   "outputs": [
    {
     "name": "stdout",
     "output_type": "stream",
     "text": [
      "<class 'pandas.core.frame.DataFrame'>\n",
      "RangeIndex: 128 entries, 0 to 127\n",
      "Data columns (total 7 columns):\n",
      " #   Column             Non-Null Count  Dtype  \n",
      "---  ------             --------------  -----  \n",
      " 0   ROLL_NO            128 non-null    object \n",
      " 1   GENDER             128 non-null    object \n",
      " 2   MID_MARKS          128 non-null    int64  \n",
      " 3   ATTENDANCE         128 non-null    float64\n",
      " 4   SOCIAL_MEDIA_TIME  126 non-null    float64\n",
      " 5   STUDY_TIME         125 non-null    float64\n",
      " 6   END_MARKS          128 non-null    int64  \n",
      "dtypes: float64(3), int64(2), object(2)\n",
      "memory usage: 7.1+ KB\n"
     ]
    }
   ],
   "source": [
    "data.info()"
   ]
  },
  {
   "cell_type": "code",
   "execution_count": 8,
   "id": "e3b8b996",
   "metadata": {
    "colab": {
     "base_uri": "https://localhost:8080/",
     "height": 206
    },
    "id": "e3b8b996",
    "outputId": "afb4f433-f9a0-4185-ef6b-b42bfb58a016"
   },
   "outputs": [
    {
     "data": {
      "text/html": [
       "<div>\n",
       "<style scoped>\n",
       "    .dataframe tbody tr th:only-of-type {\n",
       "        vertical-align: middle;\n",
       "    }\n",
       "\n",
       "    .dataframe tbody tr th {\n",
       "        vertical-align: top;\n",
       "    }\n",
       "\n",
       "    .dataframe thead th {\n",
       "        text-align: right;\n",
       "    }\n",
       "</style>\n",
       "<table border=\"1\" class=\"dataframe\">\n",
       "  <thead>\n",
       "    <tr style=\"text-align: right;\">\n",
       "      <th></th>\n",
       "      <th>ROLL_NO</th>\n",
       "      <th>GENDER</th>\n",
       "      <th>MID_MARKS</th>\n",
       "      <th>ATTENDANCE</th>\n",
       "      <th>SOCIAL_MEDIA_TIME</th>\n",
       "      <th>STUDY_TIME</th>\n",
       "      <th>END_MARKS</th>\n",
       "    </tr>\n",
       "  </thead>\n",
       "  <tbody>\n",
       "    <tr>\n",
       "      <th>123</th>\n",
       "      <td>CS21B2042</td>\n",
       "      <td>M</td>\n",
       "      <td>32</td>\n",
       "      <td>100.00</td>\n",
       "      <td>2.1</td>\n",
       "      <td>5.9</td>\n",
       "      <td>86</td>\n",
       "    </tr>\n",
       "    <tr>\n",
       "      <th>124</th>\n",
       "      <td>CS21B2043</td>\n",
       "      <td>M</td>\n",
       "      <td>32</td>\n",
       "      <td>100.00</td>\n",
       "      <td>2.0</td>\n",
       "      <td>6.5</td>\n",
       "      <td>87</td>\n",
       "    </tr>\n",
       "    <tr>\n",
       "      <th>125</th>\n",
       "      <td>CS21B2044</td>\n",
       "      <td>F</td>\n",
       "      <td>26</td>\n",
       "      <td>100.00</td>\n",
       "      <td>3.6</td>\n",
       "      <td>5.6</td>\n",
       "      <td>77</td>\n",
       "    </tr>\n",
       "    <tr>\n",
       "      <th>126</th>\n",
       "      <td>CS21B2045</td>\n",
       "      <td>M</td>\n",
       "      <td>30</td>\n",
       "      <td>98.41</td>\n",
       "      <td>2.8</td>\n",
       "      <td>7.0</td>\n",
       "      <td>80</td>\n",
       "    </tr>\n",
       "    <tr>\n",
       "      <th>127</th>\n",
       "      <td>CS21B2045</td>\n",
       "      <td>M</td>\n",
       "      <td>30</td>\n",
       "      <td>98.41</td>\n",
       "      <td>4.0</td>\n",
       "      <td>6.0</td>\n",
       "      <td>80</td>\n",
       "    </tr>\n",
       "  </tbody>\n",
       "</table>\n",
       "</div>"
      ],
      "text/plain": [
       "       ROLL_NO GENDER  MID_MARKS  ATTENDANCE  SOCIAL_MEDIA_TIME  STUDY_TIME  \\\n",
       "123  CS21B2042      M         32      100.00                2.1         5.9   \n",
       "124  CS21B2043      M         32      100.00                2.0         6.5   \n",
       "125  CS21B2044      F         26      100.00                3.6         5.6   \n",
       "126  CS21B2045      M         30       98.41                2.8         7.0   \n",
       "127  CS21B2045      M         30       98.41                4.0         6.0   \n",
       "\n",
       "     END_MARKS  \n",
       "123         86  \n",
       "124         87  \n",
       "125         77  \n",
       "126         80  \n",
       "127         80  "
      ]
     },
     "execution_count": 8,
     "metadata": {},
     "output_type": "execute_result"
    }
   ],
   "source": [
    "data.tail()"
   ]
  },
  {
   "cell_type": "code",
   "execution_count": 9,
   "id": "ddcd32bd",
   "metadata": {
    "colab": {
     "base_uri": "https://localhost:8080/",
     "height": 423
    },
    "id": "ddcd32bd",
    "outputId": "ae3e6120-1b15-4c6c-a224-fd9930b9d339"
   },
   "outputs": [
    {
     "data": {
      "text/html": [
       "<div>\n",
       "<style scoped>\n",
       "    .dataframe tbody tr th:only-of-type {\n",
       "        vertical-align: middle;\n",
       "    }\n",
       "\n",
       "    .dataframe tbody tr th {\n",
       "        vertical-align: top;\n",
       "    }\n",
       "\n",
       "    .dataframe thead th {\n",
       "        text-align: right;\n",
       "    }\n",
       "</style>\n",
       "<table border=\"1\" class=\"dataframe\">\n",
       "  <thead>\n",
       "    <tr style=\"text-align: right;\">\n",
       "      <th></th>\n",
       "      <th>ROLL_NO</th>\n",
       "      <th>GENDER</th>\n",
       "      <th>MID_MARKS</th>\n",
       "      <th>ATTENDANCE</th>\n",
       "      <th>SOCIAL_MEDIA_TIME</th>\n",
       "      <th>STUDY_TIME</th>\n",
       "      <th>END_MARKS</th>\n",
       "    </tr>\n",
       "  </thead>\n",
       "  <tbody>\n",
       "    <tr>\n",
       "      <th>0</th>\n",
       "      <td>CS20B1052</td>\n",
       "      <td>M</td>\n",
       "      <td>23</td>\n",
       "      <td>90.32</td>\n",
       "      <td>5.0</td>\n",
       "      <td>3.0</td>\n",
       "      <td>55</td>\n",
       "    </tr>\n",
       "    <tr>\n",
       "      <th>1</th>\n",
       "      <td>CS21B1001</td>\n",
       "      <td>F</td>\n",
       "      <td>21</td>\n",
       "      <td>93.65</td>\n",
       "      <td>4.7</td>\n",
       "      <td>3.1</td>\n",
       "      <td>56</td>\n",
       "    </tr>\n",
       "    <tr>\n",
       "      <th>2</th>\n",
       "      <td>CS21B1002</td>\n",
       "      <td>M</td>\n",
       "      <td>38</td>\n",
       "      <td>98.41</td>\n",
       "      <td>2.0</td>\n",
       "      <td>7.2</td>\n",
       "      <td>95</td>\n",
       "    </tr>\n",
       "    <tr>\n",
       "      <th>3</th>\n",
       "      <td>CS21B1003</td>\n",
       "      <td>M</td>\n",
       "      <td>14</td>\n",
       "      <td>95.24</td>\n",
       "      <td>5.2</td>\n",
       "      <td>2.0</td>\n",
       "      <td>41</td>\n",
       "    </tr>\n",
       "    <tr>\n",
       "      <th>4</th>\n",
       "      <td>CS21B1004</td>\n",
       "      <td>M</td>\n",
       "      <td>13</td>\n",
       "      <td>85.71</td>\n",
       "      <td>6.0</td>\n",
       "      <td>1.8</td>\n",
       "      <td>39</td>\n",
       "    </tr>\n",
       "    <tr>\n",
       "      <th>...</th>\n",
       "      <td>...</td>\n",
       "      <td>...</td>\n",
       "      <td>...</td>\n",
       "      <td>...</td>\n",
       "      <td>...</td>\n",
       "      <td>...</td>\n",
       "      <td>...</td>\n",
       "    </tr>\n",
       "    <tr>\n",
       "      <th>122</th>\n",
       "      <td>CS21B2041</td>\n",
       "      <td>M</td>\n",
       "      <td>6</td>\n",
       "      <td>95.24</td>\n",
       "      <td>6.0</td>\n",
       "      <td>2.1</td>\n",
       "      <td>44</td>\n",
       "    </tr>\n",
       "    <tr>\n",
       "      <th>123</th>\n",
       "      <td>CS21B2042</td>\n",
       "      <td>M</td>\n",
       "      <td>32</td>\n",
       "      <td>100.00</td>\n",
       "      <td>2.1</td>\n",
       "      <td>5.9</td>\n",
       "      <td>86</td>\n",
       "    </tr>\n",
       "    <tr>\n",
       "      <th>124</th>\n",
       "      <td>CS21B2043</td>\n",
       "      <td>M</td>\n",
       "      <td>32</td>\n",
       "      <td>100.00</td>\n",
       "      <td>2.0</td>\n",
       "      <td>6.5</td>\n",
       "      <td>87</td>\n",
       "    </tr>\n",
       "    <tr>\n",
       "      <th>125</th>\n",
       "      <td>CS21B2044</td>\n",
       "      <td>F</td>\n",
       "      <td>26</td>\n",
       "      <td>100.00</td>\n",
       "      <td>3.6</td>\n",
       "      <td>5.6</td>\n",
       "      <td>77</td>\n",
       "    </tr>\n",
       "    <tr>\n",
       "      <th>126</th>\n",
       "      <td>CS21B2045</td>\n",
       "      <td>M</td>\n",
       "      <td>30</td>\n",
       "      <td>98.41</td>\n",
       "      <td>2.8</td>\n",
       "      <td>7.0</td>\n",
       "      <td>80</td>\n",
       "    </tr>\n",
       "  </tbody>\n",
       "</table>\n",
       "<p>127 rows × 7 columns</p>\n",
       "</div>"
      ],
      "text/plain": [
       "       ROLL_NO GENDER  MID_MARKS  ATTENDANCE  SOCIAL_MEDIA_TIME  STUDY_TIME  \\\n",
       "0    CS20B1052      M         23       90.32                5.0         3.0   \n",
       "1    CS21B1001      F         21       93.65                4.7         3.1   \n",
       "2    CS21B1002      M         38       98.41                2.0         7.2   \n",
       "3    CS21B1003      M         14       95.24                5.2         2.0   \n",
       "4    CS21B1004      M         13       85.71                6.0         1.8   \n",
       "..         ...    ...        ...         ...                ...         ...   \n",
       "122  CS21B2041      M          6       95.24                6.0         2.1   \n",
       "123  CS21B2042      M         32      100.00                2.1         5.9   \n",
       "124  CS21B2043      M         32      100.00                2.0         6.5   \n",
       "125  CS21B2044      F         26      100.00                3.6         5.6   \n",
       "126  CS21B2045      M         30       98.41                2.8         7.0   \n",
       "\n",
       "     END_MARKS  \n",
       "0           55  \n",
       "1           56  \n",
       "2           95  \n",
       "3           41  \n",
       "4           39  \n",
       "..         ...  \n",
       "122         44  \n",
       "123         86  \n",
       "124         87  \n",
       "125         77  \n",
       "126         80  \n",
       "\n",
       "[127 rows x 7 columns]"
      ]
     },
     "execution_count": 9,
     "metadata": {},
     "output_type": "execute_result"
    }
   ],
   "source": [
    "#we are using roll_no as primary key and dropping duplicate entries\n",
    "#keep specifies which entry has to kept first, last or no entry(FALSE)\n",
    "data.drop_duplicates(subset='ROLL_NO',keep='first',inplace=True)\n",
    "data"
   ]
  },
  {
   "cell_type": "code",
   "execution_count": 34,
   "id": "312bf44d",
   "metadata": {
    "id": "312bf44d"
   },
   "outputs": [
    {
     "data": {
      "text/html": [
       "<div>\n",
       "<style scoped>\n",
       "    .dataframe tbody tr th:only-of-type {\n",
       "        vertical-align: middle;\n",
       "    }\n",
       "\n",
       "    .dataframe tbody tr th {\n",
       "        vertical-align: top;\n",
       "    }\n",
       "\n",
       "    .dataframe thead th {\n",
       "        text-align: right;\n",
       "    }\n",
       "</style>\n",
       "<table border=\"1\" class=\"dataframe\">\n",
       "  <thead>\n",
       "    <tr style=\"text-align: right;\">\n",
       "      <th></th>\n",
       "      <th>ROLL_NO</th>\n",
       "      <th>GENDER</th>\n",
       "      <th>MID_MARKS</th>\n",
       "      <th>ATTENDANCE</th>\n",
       "      <th>SOCIAL_MEDIA_TIME</th>\n",
       "      <th>STUDY_TIME</th>\n",
       "      <th>END_MARKS</th>\n",
       "    </tr>\n",
       "  </thead>\n",
       "  <tbody>\n",
       "    <tr>\n",
       "      <th>0</th>\n",
       "      <td>CS20B1052</td>\n",
       "      <td>1</td>\n",
       "      <td>23.00</td>\n",
       "      <td>90.32</td>\n",
       "      <td>5.0</td>\n",
       "      <td>3.0</td>\n",
       "      <td>55</td>\n",
       "    </tr>\n",
       "    <tr>\n",
       "      <th>1</th>\n",
       "      <td>CS21B1001</td>\n",
       "      <td>0</td>\n",
       "      <td>21.00</td>\n",
       "      <td>93.65</td>\n",
       "      <td>4.7</td>\n",
       "      <td>3.1</td>\n",
       "      <td>56</td>\n",
       "    </tr>\n",
       "    <tr>\n",
       "      <th>2</th>\n",
       "      <td>CS21B1002</td>\n",
       "      <td>1</td>\n",
       "      <td>38.00</td>\n",
       "      <td>98.41</td>\n",
       "      <td>2.0</td>\n",
       "      <td>7.2</td>\n",
       "      <td>95</td>\n",
       "    </tr>\n",
       "    <tr>\n",
       "      <th>3</th>\n",
       "      <td>CS21B1003</td>\n",
       "      <td>1</td>\n",
       "      <td>14.00</td>\n",
       "      <td>95.24</td>\n",
       "      <td>5.2</td>\n",
       "      <td>2.0</td>\n",
       "      <td>41</td>\n",
       "    </tr>\n",
       "    <tr>\n",
       "      <th>4</th>\n",
       "      <td>CS21B1004</td>\n",
       "      <td>1</td>\n",
       "      <td>13.00</td>\n",
       "      <td>85.71</td>\n",
       "      <td>6.0</td>\n",
       "      <td>1.8</td>\n",
       "      <td>39</td>\n",
       "    </tr>\n",
       "    <tr>\n",
       "      <th>...</th>\n",
       "      <td>...</td>\n",
       "      <td>...</td>\n",
       "      <td>...</td>\n",
       "      <td>...</td>\n",
       "      <td>...</td>\n",
       "      <td>...</td>\n",
       "      <td>...</td>\n",
       "    </tr>\n",
       "    <tr>\n",
       "      <th>122</th>\n",
       "      <td>CS21B2041</td>\n",
       "      <td>1</td>\n",
       "      <td>9.75</td>\n",
       "      <td>95.24</td>\n",
       "      <td>6.0</td>\n",
       "      <td>2.1</td>\n",
       "      <td>44</td>\n",
       "    </tr>\n",
       "    <tr>\n",
       "      <th>123</th>\n",
       "      <td>CS21B2042</td>\n",
       "      <td>1</td>\n",
       "      <td>32.00</td>\n",
       "      <td>100.00</td>\n",
       "      <td>2.1</td>\n",
       "      <td>5.9</td>\n",
       "      <td>86</td>\n",
       "    </tr>\n",
       "    <tr>\n",
       "      <th>124</th>\n",
       "      <td>CS21B2043</td>\n",
       "      <td>1</td>\n",
       "      <td>32.00</td>\n",
       "      <td>100.00</td>\n",
       "      <td>2.0</td>\n",
       "      <td>6.5</td>\n",
       "      <td>87</td>\n",
       "    </tr>\n",
       "    <tr>\n",
       "      <th>125</th>\n",
       "      <td>CS21B2044</td>\n",
       "      <td>0</td>\n",
       "      <td>26.00</td>\n",
       "      <td>100.00</td>\n",
       "      <td>3.6</td>\n",
       "      <td>5.6</td>\n",
       "      <td>77</td>\n",
       "    </tr>\n",
       "    <tr>\n",
       "      <th>126</th>\n",
       "      <td>CS21B2045</td>\n",
       "      <td>1</td>\n",
       "      <td>30.00</td>\n",
       "      <td>98.41</td>\n",
       "      <td>2.8</td>\n",
       "      <td>7.0</td>\n",
       "      <td>80</td>\n",
       "    </tr>\n",
       "  </tbody>\n",
       "</table>\n",
       "<p>127 rows × 7 columns</p>\n",
       "</div>"
      ],
      "text/plain": [
       "       ROLL_NO  GENDER  MID_MARKS  ATTENDANCE  SOCIAL_MEDIA_TIME  STUDY_TIME  \\\n",
       "0    CS20B1052       1      23.00       90.32                5.0         3.0   \n",
       "1    CS21B1001       0      21.00       93.65                4.7         3.1   \n",
       "2    CS21B1002       1      38.00       98.41                2.0         7.2   \n",
       "3    CS21B1003       1      14.00       95.24                5.2         2.0   \n",
       "4    CS21B1004       1      13.00       85.71                6.0         1.8   \n",
       "..         ...     ...        ...         ...                ...         ...   \n",
       "122  CS21B2041       1       9.75       95.24                6.0         2.1   \n",
       "123  CS21B2042       1      32.00      100.00                2.1         5.9   \n",
       "124  CS21B2043       1      32.00      100.00                2.0         6.5   \n",
       "125  CS21B2044       0      26.00      100.00                3.6         5.6   \n",
       "126  CS21B2045       1      30.00       98.41                2.8         7.0   \n",
       "\n",
       "     END_MARKS  \n",
       "0           55  \n",
       "1           56  \n",
       "2           95  \n",
       "3           41  \n",
       "4           39  \n",
       "..         ...  \n",
       "122         44  \n",
       "123         86  \n",
       "124         87  \n",
       "125         77  \n",
       "126         80  \n",
       "\n",
       "[127 rows x 7 columns]"
      ]
     },
     "execution_count": 34,
     "metadata": {},
     "output_type": "execute_result"
    }
   ],
   "source": [
    "data['GENDER']=data['GENDER'].astype('category')\n",
    "data['GENDER']=data['GENDER'].cat.codes\n",
    "data"
   ]
  },
  {
   "cell_type": "code",
   "execution_count": 11,
   "id": "ed9cb08b",
   "metadata": {
    "colab": {
     "base_uri": "https://localhost:8080/",
     "height": 449
    },
    "id": "ed9cb08b",
    "outputId": "15c66734-abbc-4545-db6a-c8671ffb19f9"
   },
   "outputs": [
    {
     "data": {
      "image/png": "[encoded data removed]",
      "text/plain": [
       "<Figure size 640x480 with 1 Axes>"
      ]
     },
     "metadata": {},
     "output_type": "display_data"
    }
   ],
   "source": [
    "#for som extent this graph shows that social media time and marks are closely related and are linearly separable\n",
    "plt.scatter(data['SOCIAL_MEDIA_TIME'],data['END_MARKS'])\n",
    "plt.xlabel('SOCIAL_MEDIA_TIME')\n",
    "plt.ylabel('MARKS')\n",
    "plt.show()"
   ]
  },
  {
   "cell_type": "code",
   "execution_count": 14,
   "id": "d7c26b4f",
   "metadata": {
    "colab": {
     "base_uri": "https://localhost:8080/"
    },
    "id": "d7c26b4f",
    "outputId": "24e4e948-24b6-4adb-d038-04d22a6d9b44"
   },
   "outputs": [
    {
     "data": {
      "text/html": [
       "<div>\n",
       "<style scoped>\n",
       "    .dataframe tbody tr th:only-of-type {\n",
       "        vertical-align: middle;\n",
       "    }\n",
       "\n",
       "    .dataframe tbody tr th {\n",
       "        vertical-align: top;\n",
       "    }\n",
       "\n",
       "    .dataframe thead th {\n",
       "        text-align: right;\n",
       "    }\n",
       "</style>\n",
       "<table border=\"1\" class=\"dataframe\">\n",
       "  <thead>\n",
       "    <tr style=\"text-align: right;\">\n",
       "      <th></th>\n",
       "      <th>ROLL_NO</th>\n",
       "      <th>GENDER</th>\n",
       "      <th>MID_MARKS</th>\n",
       "      <th>ATTENDANCE</th>\n",
       "      <th>SOCIAL_MEDIA_TIME</th>\n",
       "      <th>STUDY_TIME</th>\n",
       "      <th>END_MARKS</th>\n",
       "    </tr>\n",
       "  </thead>\n",
       "  <tbody>\n",
       "    <tr>\n",
       "      <th>20</th>\n",
       "      <td>CS21B1020</td>\n",
       "      <td>1</td>\n",
       "      <td>0</td>\n",
       "      <td>0.00</td>\n",
       "      <td>NaN</td>\n",
       "      <td>NaN</td>\n",
       "      <td>2</td>\n",
       "    </tr>\n",
       "    <tr>\n",
       "      <th>92</th>\n",
       "      <td>CS21B2009</td>\n",
       "      <td>1</td>\n",
       "      <td>3</td>\n",
       "      <td>80.95</td>\n",
       "      <td>NaN</td>\n",
       "      <td>NaN</td>\n",
       "      <td>27</td>\n",
       "    </tr>\n",
       "  </tbody>\n",
       "</table>\n",
       "</div>"
      ],
      "text/plain": [
       "      ROLL_NO  GENDER  MID_MARKS  ATTENDANCE  SOCIAL_MEDIA_TIME  STUDY_TIME  \\\n",
       "20  CS21B1020       1          0        0.00                NaN         NaN   \n",
       "92  CS21B2009       1          3       80.95                NaN         NaN   \n",
       "\n",
       "    END_MARKS  \n",
       "20          2  \n",
       "92         27  "
      ]
     },
     "execution_count": 14,
     "metadata": {},
     "output_type": "execute_result"
    }
   ],
   "source": [
    "#filling null values in social media and study time graphs based on final exam marks he got\n",
    "data[np.isnan(data['SOCIAL_MEDIA_TIME'])]"
   ]
  },
  {
   "cell_type": "code",
   "execution_count": 15,
   "id": "c3afe219",
   "metadata": {
    "colab": {
     "base_uri": "https://localhost:8080/"
    },
    "id": "c3afe219",
    "outputId": "24ec39b0-d4c1-4316-b29f-332b1ee1dba2"
   },
   "outputs": [
    {
     "name": "stdout",
     "output_type": "stream",
     "text": [
      "<class 'pandas.core.frame.DataFrame'>\n",
      "Int64Index: 127 entries, 0 to 126\n",
      "Data columns (total 7 columns):\n",
      " #   Column             Non-Null Count  Dtype  \n",
      "---  ------             --------------  -----  \n",
      " 0   ROLL_NO            127 non-null    object \n",
      " 1   GENDER             127 non-null    int8   \n",
      " 2   MID_MARKS          127 non-null    int64  \n",
      " 3   ATTENDANCE         127 non-null    float64\n",
      " 4   SOCIAL_MEDIA_TIME  127 non-null    float64\n",
      " 5   STUDY_TIME         124 non-null    float64\n",
      " 6   END_MARKS          127 non-null    int64  \n",
      "dtypes: float64(3), int64(2), int8(1), object(1)\n",
      "memory usage: 11.1+ KB\n"
     ]
    }
   ],
   "source": [
    "#as we see these 2 entries have very low end marks we can fill 7.5 and 6.5 hours by seeing above scatter plot\n",
    "data.at[20, 'SOCIAL_MEDIA_TIME'] = 7.5\n",
    "data.at[92, 'SOCIAL_MEDIA_TIME'] = 6.5\n",
    "data.info()"
   ]
  },
  {
   "cell_type": "code",
   "execution_count": 16,
   "id": "6d1b8546",
   "metadata": {
    "colab": {
     "base_uri": "https://localhost:8080/",
     "height": 449
    },
    "id": "6d1b8546",
    "outputId": "82a8999e-21e3-4d18-e689-b3d130ed1e97",
    "scrolled": true
   },
   "outputs": [
    {
     "data": {
      "image/png": "[encoded data removed]",
      "text/plain": [
       "<Figure size 640x480 with 1 Axes>"
      ]
     },
     "metadata": {},
     "output_type": "display_data"
    }
   ],
   "source": [
    "plt.scatter(data['STUDY_TIME'],data['END_MARKS'])\n",
    "plt.xlabel('STUDY_TIME')\n",
    "plt.ylabel('MARKS')\n",
    "plt.show()"
   ]
  },
  {
   "cell_type": "code",
   "execution_count": 17,
   "id": "d5ee2bc3",
   "metadata": {
    "colab": {
     "base_uri": "https://localhost:8080/",
     "height": 143
    },
    "id": "d5ee2bc3",
    "outputId": "efbd6e58-ef79-469d-9c5d-e78ce9e080c2"
   },
   "outputs": [
    {
     "data": {
      "text/html": [
       "<div>\n",
       "<style scoped>\n",
       "    .dataframe tbody tr th:only-of-type {\n",
       "        vertical-align: middle;\n",
       "    }\n",
       "\n",
       "    .dataframe tbody tr th {\n",
       "        vertical-align: top;\n",
       "    }\n",
       "\n",
       "    .dataframe thead th {\n",
       "        text-align: right;\n",
       "    }\n",
       "</style>\n",
       "<table border=\"1\" class=\"dataframe\">\n",
       "  <thead>\n",
       "    <tr style=\"text-align: right;\">\n",
       "      <th></th>\n",
       "      <th>ROLL_NO</th>\n",
       "      <th>GENDER</th>\n",
       "      <th>MID_MARKS</th>\n",
       "      <th>ATTENDANCE</th>\n",
       "      <th>SOCIAL_MEDIA_TIME</th>\n",
       "      <th>STUDY_TIME</th>\n",
       "      <th>END_MARKS</th>\n",
       "    </tr>\n",
       "  </thead>\n",
       "  <tbody>\n",
       "    <tr>\n",
       "      <th>12</th>\n",
       "      <td>CS21B1012</td>\n",
       "      <td>1</td>\n",
       "      <td>37</td>\n",
       "      <td>93.65</td>\n",
       "      <td>1.5</td>\n",
       "      <td>NaN</td>\n",
       "      <td>92</td>\n",
       "    </tr>\n",
       "    <tr>\n",
       "      <th>20</th>\n",
       "      <td>CS21B1020</td>\n",
       "      <td>1</td>\n",
       "      <td>0</td>\n",
       "      <td>0.00</td>\n",
       "      <td>7.5</td>\n",
       "      <td>NaN</td>\n",
       "      <td>2</td>\n",
       "    </tr>\n",
       "    <tr>\n",
       "      <th>92</th>\n",
       "      <td>CS21B2009</td>\n",
       "      <td>1</td>\n",
       "      <td>3</td>\n",
       "      <td>80.95</td>\n",
       "      <td>6.5</td>\n",
       "      <td>NaN</td>\n",
       "      <td>27</td>\n",
       "    </tr>\n",
       "  </tbody>\n",
       "</table>\n",
       "</div>"
      ],
      "text/plain": [
       "      ROLL_NO  GENDER  MID_MARKS  ATTENDANCE  SOCIAL_MEDIA_TIME  STUDY_TIME  \\\n",
       "12  CS21B1012       1         37       93.65                1.5         NaN   \n",
       "20  CS21B1020       1          0        0.00                7.5         NaN   \n",
       "92  CS21B2009       1          3       80.95                6.5         NaN   \n",
       "\n",
       "    END_MARKS  \n",
       "12         92  \n",
       "20          2  \n",
       "92         27  "
      ]
     },
     "execution_count": 17,
     "metadata": {},
     "output_type": "execute_result"
    }
   ],
   "source": [
    "data[np.isnan(data['STUDY_TIME'])]"
   ]
  },
  {
   "cell_type": "code",
   "execution_count": 18,
   "id": "c739acc7",
   "metadata": {
    "colab": {
     "base_uri": "https://localhost:8080/"
    },
    "id": "c739acc7",
    "outputId": "8c4fb3a9-8d64-4c29-f1db-78a4923a4542"
   },
   "outputs": [
    {
     "name": "stdout",
     "output_type": "stream",
     "text": [
      "<class 'pandas.core.frame.DataFrame'>\n",
      "Int64Index: 127 entries, 0 to 126\n",
      "Data columns (total 7 columns):\n",
      " #   Column             Non-Null Count  Dtype  \n",
      "---  ------             --------------  -----  \n",
      " 0   ROLL_NO            127 non-null    object \n",
      " 1   GENDER             127 non-null    int8   \n",
      " 2   MID_MARKS          127 non-null    int64  \n",
      " 3   ATTENDANCE         127 non-null    float64\n",
      " 4   SOCIAL_MEDIA_TIME  127 non-null    float64\n",
      " 5   STUDY_TIME         127 non-null    float64\n",
      " 6   END_MARKS          127 non-null    int64  \n",
      "dtypes: float64(3), int64(2), int8(1), object(1)\n",
      "memory usage: 11.1+ KB\n"
     ]
    }
   ],
   "source": [
    "#as we see these last 2 entries have very low end marks we can fill 0.6 and 1 AS study hours and first entry we can\n",
    "#fill above 7 hours as we can see from scatter plot\n",
    "data.at[12, 'STUDY_TIME'] = 7.3\n",
    "data.at[20, 'STUDY_TIME'] = 0.3\n",
    "data.at[92, 'STUDY_TIME'] = 1\n",
    "data.info()"
   ]
  },
  {
   "cell_type": "code",
   "execution_count": 35,
   "id": "a535eb4b",
   "metadata": {
    "id": "a535eb4b"
   },
   "outputs": [],
   "source": [
    "#now we are free of null values\n",
    "#now we have to check for outliers\n",
    "x=data.columns"
   ]
  },
  {
   "cell_type": "code",
   "execution_count": 20,
   "id": "11dc6c80",
   "metadata": {
    "colab": {
     "base_uri": "https://localhost:8080/",
     "height": 1000
    },
    "id": "11dc6c80",
    "outputId": "3c8a0264-4298-4d06-ac5c-404b845771a9"
   },
   "outputs": [
    {
     "data": {
      "image/png": "[encoded data removed]",
      "text/plain": [
       "<Figure size 640x480 with 1 Axes>"
      ]
     },
     "metadata": {},
     "output_type": "display_data"
    },
    {
     "data": {
      "image/png": "[encoded data removed]",
      "text/plain": [
       "<Figure size 640x480 with 1 Axes>"
      ]
     },
     "metadata": {},
     "output_type": "display_data"
    },
    {
     "data": {
      "image/png": "[encoded data removed]",
      "text/plain": [
       "<Figure size 640x480 with 1 Axes>"
      ]
     },
     "metadata": {},
     "output_type": "display_data"
    },
    {
     "data": {
      "image/png": "[encoded data removed]",
      "text/plain": [
       "<Figure size 640x480 with 1 Axes>"
      ]
     },
     "metadata": {},
     "output_type": "display_data"
    },
    {
     "data": {
      "image/png": "[encoded data removed]",
      "text/plain": [
       "<Figure size 640x480 with 1 Axes>"
      ]
     },
     "metadata": {},
     "output_type": "display_data"
    }
   ],
   "source": [
    "for i in range(2,len(x)):\n",
    "    plt.boxplot(data[x[i]])\n",
    "    plt.title(f'boxplot of {x[i]}')\n",
    "    plt.show()"
   ]
  },
  {
   "cell_type": "code",
   "execution_count": 21,
   "id": "64377f76",
   "metadata": {
    "id": "64377f76"
   },
   "outputs": [],
   "source": [
    "for i in range(2,len(x)):\n",
    "    #calculating 25,50,75 percentile for eliminating outliers\n",
    "    perc=np.percentile(data[x[i]],[25,50,75])\n",
    "    iqr=perc[2]-perc[0]\n",
    "    perc[0]=perc[0]-iqr*1.5\n",
    "    perc[2]=perc[2]+iqr*1.5\n",
    "    #and replacing values more than range with within range values\n",
    "    data[x[i]]=data[x[i]].mask(data[x[i]]<perc[0],perc[0])\n",
    "    data[x[i]]=data[x[i]].mask(data[x[i]]>perc[2],perc[2])"
   ]
  },
  {
   "cell_type": "code",
   "execution_count": 22,
   "id": "cd32110f",
   "metadata": {
    "colab": {
     "base_uri": "https://localhost:8080/",
     "height": 1000
    },
    "id": "cd32110f",
    "outputId": "1bb337a6-ddf1-4ab6-c017-80cf12a38357"
   },
   "outputs": [
    {
     "data": {
      "image/png": "[encoded data removed]",
      "text/plain": [
       "<Figure size 640x480 with 1 Axes>"
      ]
     },
     "metadata": {},
     "output_type": "display_data"
    },
    {
     "data": {
      "image/png": "[encoded data removed]",
      "text/plain": [
       "<Figure size 640x480 with 1 Axes>"
      ]
     },
     "metadata": {},
     "output_type": "display_data"
    },
    {
     "data": {
      "image/png": "[encoded data removed]",
      "text/plain": [
       "<Figure size 640x480 with 1 Axes>"
      ]
     },
     "metadata": {},
     "output_type": "display_data"
    },
    {
     "data": {
      "image/png": "[encoded data removed]",
      "text/plain": [
       "<Figure size 640x480 with 1 Axes>"
      ]
     },
     "metadata": {},
     "output_type": "display_data"
    },
    {
     "data": {
      "image/png": "[encoded data removed]",
      "text/plain": [
       "<Figure size 640x480 with 1 Axes>"
      ]
     },
     "metadata": {},
     "output_type": "display_data"
    }
   ],
   "source": [
    "for i in range(2,len(x)):\n",
    "    plt.boxplot(data[x[i]])\n",
    "    plt.title(f'boxplot of {x[i]} after outliers')\n",
    "    plt.show()"
   ]
  },
  {
   "cell_type": "code",
   "execution_count": 36,
   "id": "0b08700c",
   "metadata": {
    "colab": {
     "base_uri": "https://localhost:8080/",
     "height": 466
    },
    "id": "0b08700c",
    "outputId": "7b48e9f6-7ede-49f9-f8a1-9021d276b2cd"
   },
   "outputs": [
    {
     "name": "stdout",
     "output_type": "stream",
     "text": [
      "<class 'pandas.core.frame.DataFrame'>\n",
      "Int64Index: 127 entries, 0 to 126\n",
      "Data columns (total 7 columns):\n",
      " #   Column             Non-Null Count  Dtype  \n",
      "---  ------             --------------  -----  \n",
      " 0   ROLL_NO            127 non-null    object \n",
      " 1   GENDER             127 non-null    int8   \n",
      " 2   MID_MARKS          127 non-null    float64\n",
      " 3   ATTENDANCE         127 non-null    float64\n",
      " 4   SOCIAL_MEDIA_TIME  127 non-null    float64\n",
      " 5   STUDY_TIME         127 non-null    float64\n",
      " 6   END_MARKS          127 non-null    int64  \n",
      "dtypes: float64(4), int64(1), int8(1), object(1)\n",
      "memory usage: 11.1+ KB\n",
      "None\n"
     ]
    },
    {
     "data": {
      "text/html": [
       "<div>\n",
       "<style scoped>\n",
       "    .dataframe tbody tr th:only-of-type {\n",
       "        vertical-align: middle;\n",
       "    }\n",
       "\n",
       "    .dataframe tbody tr th {\n",
       "        vertical-align: top;\n",
       "    }\n",
       "\n",
       "    .dataframe thead th {\n",
       "        text-align: right;\n",
       "    }\n",
       "</style>\n",
       "<table border=\"1\" class=\"dataframe\">\n",
       "  <thead>\n",
       "    <tr style=\"text-align: right;\">\n",
       "      <th></th>\n",
       "      <th>ROLL_NO</th>\n",
       "      <th>GENDER</th>\n",
       "      <th>MID_MARKS</th>\n",
       "      <th>ATTENDANCE</th>\n",
       "      <th>SOCIAL_MEDIA_TIME</th>\n",
       "      <th>STUDY_TIME</th>\n",
       "      <th>END_MARKS</th>\n",
       "    </tr>\n",
       "  </thead>\n",
       "  <tbody>\n",
       "    <tr>\n",
       "      <th>0</th>\n",
       "      <td>CS20B1052</td>\n",
       "      <td>1</td>\n",
       "      <td>23.0</td>\n",
       "      <td>90.32</td>\n",
       "      <td>5.0</td>\n",
       "      <td>3.0</td>\n",
       "      <td>55</td>\n",
       "    </tr>\n",
       "    <tr>\n",
       "      <th>1</th>\n",
       "      <td>CS21B1001</td>\n",
       "      <td>0</td>\n",
       "      <td>21.0</td>\n",
       "      <td>93.65</td>\n",
       "      <td>4.7</td>\n",
       "      <td>3.1</td>\n",
       "      <td>56</td>\n",
       "    </tr>\n",
       "    <tr>\n",
       "      <th>2</th>\n",
       "      <td>CS21B1002</td>\n",
       "      <td>1</td>\n",
       "      <td>38.0</td>\n",
       "      <td>98.41</td>\n",
       "      <td>2.0</td>\n",
       "      <td>7.2</td>\n",
       "      <td>95</td>\n",
       "    </tr>\n",
       "    <tr>\n",
       "      <th>3</th>\n",
       "      <td>CS21B1003</td>\n",
       "      <td>1</td>\n",
       "      <td>14.0</td>\n",
       "      <td>95.24</td>\n",
       "      <td>5.2</td>\n",
       "      <td>2.0</td>\n",
       "      <td>41</td>\n",
       "    </tr>\n",
       "    <tr>\n",
       "      <th>4</th>\n",
       "      <td>CS21B1004</td>\n",
       "      <td>1</td>\n",
       "      <td>13.0</td>\n",
       "      <td>85.71</td>\n",
       "      <td>6.0</td>\n",
       "      <td>1.8</td>\n",
       "      <td>39</td>\n",
       "    </tr>\n",
       "  </tbody>\n",
       "</table>\n",
       "</div>"
      ],
      "text/plain": [
       "     ROLL_NO  GENDER  MID_MARKS  ATTENDANCE  SOCIAL_MEDIA_TIME  STUDY_TIME  \\\n",
       "0  CS20B1052       1       23.0       90.32                5.0         3.0   \n",
       "1  CS21B1001       0       21.0       93.65                4.7         3.1   \n",
       "2  CS21B1002       1       38.0       98.41                2.0         7.2   \n",
       "3  CS21B1003       1       14.0       95.24                5.2         2.0   \n",
       "4  CS21B1004       1       13.0       85.71                6.0         1.8   \n",
       "\n",
       "   END_MARKS  \n",
       "0         55  \n",
       "1         56  \n",
       "2         95  \n",
       "3         41  \n",
       "4         39  "
      ]
     },
     "execution_count": 36,
     "metadata": {},
     "output_type": "execute_result"
    }
   ],
   "source": [
    "print(data.info())\n",
    "data.head()"
   ]
  },
  {
   "cell_type": "code",
   "execution_count": 58,
   "id": "14b1a082",
   "metadata": {
    "scrolled": true
   },
   "outputs": [
    {
     "data": {
      "image/png": "[encoded data removed]",
      "text/plain": [
       "<Figure size 640x480 with 1 Axes>"
      ]
     },
     "metadata": {},
     "output_type": "display_data"
    }
   ],
   "source": [
    "plt.scatter(data['MID_MARKS'],data['END_MARKS'])\n",
    "plt.xlabel('MID_MARKS')\n",
    "plt.ylabel('END_MARKS')\n",
    "plt.show()"
   ]
  },
  {
   "cell_type": "code",
   "execution_count": 39,
   "id": "a3f18386",
   "metadata": {
    "colab": {
     "base_uri": "https://localhost:8080/",
     "height": 206
    },
    "id": "a3f18386",
    "outputId": "777c9f64-b40b-4c04-d5b6-7878f84325ea",
    "scrolled": true
   },
   "outputs": [
    {
     "data": {
      "text/html": [
       "<div>\n",
       "<style scoped>\n",
       "    .dataframe tbody tr th:only-of-type {\n",
       "        vertical-align: middle;\n",
       "    }\n",
       "\n",
       "    .dataframe tbody tr th {\n",
       "        vertical-align: top;\n",
       "    }\n",
       "\n",
       "    .dataframe thead th {\n",
       "        text-align: right;\n",
       "    }\n",
       "</style>\n",
       "<table border=\"1\" class=\"dataframe\">\n",
       "  <thead>\n",
       "    <tr style=\"text-align: right;\">\n",
       "      <th></th>\n",
       "      <th>GENDER</th>\n",
       "      <th>MID_MARKS</th>\n",
       "      <th>ATTENDANCE</th>\n",
       "      <th>SOCIAL_MEDIA_TIME</th>\n",
       "      <th>STUDY_TIME</th>\n",
       "    </tr>\n",
       "  </thead>\n",
       "  <tbody>\n",
       "    <tr>\n",
       "      <th>GENDER</th>\n",
       "      <td>1.000000</td>\n",
       "      <td>-0.054196</td>\n",
       "      <td>0.009743</td>\n",
       "      <td>0.109538</td>\n",
       "      <td>-0.013341</td>\n",
       "    </tr>\n",
       "    <tr>\n",
       "      <th>MID_MARKS</th>\n",
       "      <td>-0.054196</td>\n",
       "      <td>1.000000</td>\n",
       "      <td>0.414397</td>\n",
       "      <td>-0.831826</td>\n",
       "      <td>0.822913</td>\n",
       "    </tr>\n",
       "    <tr>\n",
       "      <th>ATTENDANCE</th>\n",
       "      <td>0.009743</td>\n",
       "      <td>0.414397</td>\n",
       "      <td>1.000000</td>\n",
       "      <td>-0.418391</td>\n",
       "      <td>0.383066</td>\n",
       "    </tr>\n",
       "    <tr>\n",
       "      <th>SOCIAL_MEDIA_TIME</th>\n",
       "      <td>0.109538</td>\n",
       "      <td>-0.831826</td>\n",
       "      <td>-0.418391</td>\n",
       "      <td>1.000000</td>\n",
       "      <td>-0.840771</td>\n",
       "    </tr>\n",
       "    <tr>\n",
       "      <th>STUDY_TIME</th>\n",
       "      <td>-0.013341</td>\n",
       "      <td>0.822913</td>\n",
       "      <td>0.383066</td>\n",
       "      <td>-0.840771</td>\n",
       "      <td>1.000000</td>\n",
       "    </tr>\n",
       "  </tbody>\n",
       "</table>\n",
       "</div>"
      ],
      "text/plain": [
       "                     GENDER  MID_MARKS  ATTENDANCE  SOCIAL_MEDIA_TIME  \\\n",
       "GENDER             1.000000  -0.054196    0.009743           0.109538   \n",
       "MID_MARKS         -0.054196   1.000000    0.414397          -0.831826   \n",
       "ATTENDANCE         0.009743   0.414397    1.000000          -0.418391   \n",
       "SOCIAL_MEDIA_TIME  0.109538  -0.831826   -0.418391           1.000000   \n",
       "STUDY_TIME        -0.013341   0.822913    0.383066          -0.840771   \n",
       "\n",
       "                   STUDY_TIME  \n",
       "GENDER              -0.013341  \n",
       "MID_MARKS            0.822913  \n",
       "ATTENDANCE           0.383066  \n",
       "SOCIAL_MEDIA_TIME   -0.840771  \n",
       "STUDY_TIME           1.000000  "
      ]
     },
     "execution_count": 39,
     "metadata": {},
     "output_type": "execute_result"
    }
   ],
   "source": [
    "x=data.drop(columns=['ROLL_NO','END_MARKS'])\n",
    "y=data['END_MARKS']\n",
    "x.corr()"
   ]
  },
  {
   "cell_type": "code",
   "execution_count": 27,
   "id": "7be55c9f",
   "metadata": {
    "id": "7be55c9f"
   },
   "outputs": [],
   "source": [
    "#as we see gender is a not at all related to other variables and we see its categorical data we can drop that too\n",
    "x=x.drop(columns=['GENDER'])"
   ]
  },
  {
   "cell_type": "code",
   "execution_count": 28,
   "id": "91540799",
   "metadata": {
    "id": "91540799"
   },
   "outputs": [],
   "source": [
    "x.insert(0,'mlr',1)"
   ]
  },
  {
   "cell_type": "code",
   "execution_count": 29,
   "id": "14817186",
   "metadata": {
    "colab": {
     "base_uri": "https://localhost:8080/",
     "height": 206
    },
    "id": "14817186",
    "outputId": "fc4e9dca-fc4b-434a-aa43-c4b4c1d17d56"
   },
   "outputs": [],
   "source": [
    "xtrain,xtest,ytrain,ytest=train_test_split(x,y,test_size=0.2,random_state=42)"
   ]
  },
  {
   "cell_type": "code",
   "execution_count": 30,
   "id": "fe6d97cf",
   "metadata": {
    "colab": {
     "base_uri": "https://localhost:8080/"
    },
    "id": "fe6d97cf",
    "outputId": "dcc71901-11dd-4f3d-8f50-bc17978276a9"
   },
   "outputs": [
    {
     "data": {
      "text/plain": [
       "array([37.08488023,  0.79406859,  0.07201609, -3.04662227,  3.62110146])"
      ]
     },
     "execution_count": 30,
     "metadata": {},
     "output_type": "execute_result"
    }
   ],
   "source": [
    "Xt=xtrain.transpose()\n",
    "Xt=np.array(Xt)\n",
    "k=np.matmul(Xt,xtrain)\n",
    "k=np.linalg.inv(k)\n",
    "k=np.matmul(k,Xt)\n",
    "k=np.matmul(k,ytrain)\n",
    "k"
   ]
  },
  {
   "cell_type": "code",
   "execution_count": 32,
   "id": "64261197",
   "metadata": {
    "colab": {
     "base_uri": "https://localhost:8080/"
    },
    "id": "64261197",
    "outputId": "2d8de4f2-953d-4e1b-a195-13061ceb36e1"
   },
   "outputs": [
    {
     "name": "stdout",
     "output_type": "stream",
     "text": [
      "[70.89343954670936, 82.98771519814488, 85.10175739159075, 85.1789091224453, 71.63932926996887, 76.3373394017295, 93.77842182957131, 74.24260063973003, 83.01919159609231, 67.72500825985122, 78.0147911546396, 41.81852002574325, 58.40308816014323, 67.54845056162473, 72.48888016053833, 81.34950822444044, 56.25473862190541, 58.7335623984523, 71.03367911553008, 78.19254741994793, 82.10370424394395, 74.99838214794191, 72.18421793356427, 79.05301741953265, 57.48314413066008, 65.20940140608488]\n",
      "\n",
      "\n",
      "mean absolute error :  2.778099435484366\n"
     ]
    }
   ],
   "source": [
    "def predict(k,a):\n",
    "    s=0\n",
    "    for i in range(len(k)):\n",
    "        s=s+k[i]*a[i]\n",
    "    return s\n",
    "ypred=[]\n",
    "for i in range(len(xtest)):\n",
    "    c=predict(k,xtest.iloc[i])\n",
    "    ypred.append(c)\n",
    "print(ypred)\n",
    "print('\\n')\n",
    "print('mean absolute error : ',sum(abs(ypred-ytest))/len(ytest))"
   ]
  },
  {
   "cell_type": "code",
   "execution_count": 33,
   "id": "9e289be8",
   "metadata": {
    "colab": {
     "base_uri": "https://localhost:8080/"
    },
    "id": "9e289be8",
    "outputId": "efba5788-4c38-494d-edea-dae7b486d251"
   },
   "outputs": [
    {
     "name": "stdout",
     "output_type": "stream",
     "text": [
      "r2 score is  0.9071468706326603\n"
     ]
    }
   ],
   "source": [
    "#r2 score\n",
    "val=ytest.values\n",
    "ymean=ytest.mean()\n",
    "s=0\n",
    "num=sum([(val[i]-ypred[i])**2 for i in range(len(val))])\n",
    "den=sum([(val[i]-ymean)**2 for i  in range(len(val))])\n",
    "# An R2 score of 0.9 means that 90% of the variance in the dependent variable\n",
    "# is explained by the independent variables.\n",
    "print('r2 score is ',1-num/den)"
   ]
  },
  {
   "cell_type": "code",
   "execution_count": 54,
   "id": "9ltuBcFpCuc5",
   "metadata": {
    "id": "9ltuBcFpCuc5"
   },
   "outputs": [],
   "source": [
    "def pca(n,data):\n",
    "    x=data.drop(columns=['ROLL_NO','END_MARKS','GENDER'])\n",
    "    y=data['END_MARKS']\n",
    "    x=(x-x.mean())/x.std()\n",
    "    f=x.cov()\n",
    "    from numpy.linalg import eig\n",
    "    ev=eig(f)\n",
    "    evctr=ev[1]\n",
    "    fv=evctr[:,0:n]\n",
    "    final_x=np.dot(x,fv)\n",
    "    if n==1:\n",
    "        x=pd.DataFrame(final_x,columns=['f1'])\n",
    "    elif n==2:\n",
    "        x=pd.DataFrame(final_x,columns=['f1','f2'])\n",
    "    elif n==3:\n",
    "        x=pd.DataFrame(final_x,columns=['f1','f2','f3'])\n",
    "    x.insert(0,'grb',1)\n",
    "    xtrain,xtest,ytrain,ytest=train_test_split(x,y,test_size=0.2,random_state=42)\n",
    "    def predict(k,a):\n",
    "        s=0\n",
    "        for i in range(len(k)):\n",
    "            s=s+k[i]*a[i]\n",
    "        return s\n",
    "    Xt=xtrain.transpose()\n",
    "    Xt=np.array(Xt)\n",
    "    k=np.matmul(Xt,xtrain)\n",
    "    k=np.linalg.inv(k)\n",
    "    k=np.matmul(k,Xt)\n",
    "    k=np.matmul(k,ytrain)\n",
    "    ypred=[]\n",
    "    for i in range(len(xtest)):\n",
    "        c=predict(k,xtest.iloc[i])\n",
    "        ypred.append(c)\n",
    "    print(f\"n=={n}\")\n",
    "    print('mean absolute error : ',sum(abs(ypred-ytest))/len(ytest))\n",
    "    #r2 score\n",
    "    val=ytest.values\n",
    "    ymean=ytest.mean()\n",
    "    s=0\n",
    "    num=sum([(val[i]-ypred[i])**2 for i in range(len(val))])\n",
    "    den=sum([(val[i]-ymean)**2 for i  in range(len(val))])\n",
    "    # An R2 score of 0.9 means that 90% of the variance in the dependent variable\n",
    "    # is explained by the independent variable.\n",
    "    print('r2 score for  is    : ',1-num/den)\n",
    "    print('\\n')"
   ]
  },
  {
   "cell_type": "code",
   "execution_count": 55,
   "id": "SG11xdL5DvHb",
   "metadata": {
    "colab": {
     "base_uri": "https://localhost:8080/"
    },
    "id": "SG11xdL5DvHb",
    "outputId": "84749b1b-8cbe-4325-a979-24ed63c9fa45"
   },
   "outputs": [
    {
     "name": "stdout",
     "output_type": "stream",
     "text": [
      "n==1\n",
      "mean absolute error :  3.168249286214192\n",
      "r2 score for  is    :  0.8880679036136152\n",
      "\n",
      "\n",
      "n==2\n",
      "mean absolute error :  2.744614563809676\n",
      "r2 score for  is    :  0.9130494020693747\n",
      "\n",
      "\n",
      "n==3\n",
      "mean absolute error :  2.766960962038745\n",
      "r2 score for  is    :  0.9096449809551459\n",
      "\n",
      "\n",
      "n==4\n",
      "mean absolute error :  2.7780994354842155\n",
      "r2 score for  is    :  0.9071468706326652\n",
      "\n",
      "\n"
     ]
    }
   ],
   "source": [
    "pca(1,data)\n",
    "pca(2,data)\n",
    "pca(3,data)\n",
    "pca(4,data)"
   ]
  },
  {
   "cell_type": "code",
   "execution_count": null,
   "id": "iNLnUOdxEAK3",
   "metadata": {
    "id": "iNLnUOdxEAK3"
   },
   "outputs": [],
   "source": []
  }
 ],
 "metadata": {
  "colab": {
   "provenance": []
  },
  "kernelspec": {
   "display_name": "Python 3 (ipykernel)",
   "language": "python",
   "name": "python3"
  },
  "language_info": {
   "codemirror_mode": {
    "name": "ipython",
    "version": 3
   },
   "file_extension": ".py",
   "mimetype": "text/x-python",
   "name": "python",
   "nbconvert_exporter": "python",
   "pygments_lexer": "ipython3",
   "version": "3.11.4"
  }
 },
 "nbformat": 4,
 "nbformat_minor": 5
}
